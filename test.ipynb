{
 "cells": [
  {
   "cell_type": "markdown",
   "metadata": {},
   "source": [
    "# CS 320 PM Interview : Fall 2024\n",
    "\n",
    "We are going to use this notbook to test your knowledge on different important topics to be covered in the course. Having a good grip of these will be needed to be able to help students with their issues.\n",
    "\n",
    "## Review\n",
    "\n",
    "Q. Write a funtion which is given two arguments. The first argument is always a list. If the second argument is:\n",
    "1. a list, the function should return a new list where the number at each index n, is the product of the nth number in list 1 and nth number in list 2.\n",
    "2. a number, the fucntion should return a list where the number at index n is the product of the th number in list 1 and the nunber provided as the second argument.\n",
    "3. nothing, 2 should be passed as a default argumnet and the function should do the same thing as it does in scenario number 2."
   ]
  },
  {
   "cell_type": "code",
   "execution_count": null,
   "metadata": {},
   "outputs": [],
   "source": [
    "## code here"
   ]
  },
  {
   "cell_type": "markdown",
   "metadata": {},
   "source": [
    "## HTML and Pandas\n",
    "Q. Use BeautifulSoup to parse rankings.html, find the table containing the ranking data, and then save it as a Pandas DataFrame. You do not have to perform any typecasting of the data yet. "
   ]
  },
  {
   "cell_type": "code",
   "execution_count": null,
   "metadata": {},
   "outputs": [],
   "source": [
    "## code here"
   ]
  },
  {
   "cell_type": "markdown",
   "metadata": {},
   "source": [
    "Q. How many different countries are in the dataframe? Which country does the 50th ranked university belong to?"
   ]
  },
  {
   "cell_type": "code",
   "execution_count": null,
   "metadata": {},
   "outputs": [],
   "source": [
    "## code here"
   ]
  },
  {
   "cell_type": "markdown",
   "metadata": {},
   "source": [
    "Q. List the lowest 10 institutions in the USA that were ranked better than the highest-ranked institution in Germany?"
   ]
  },
  {
   "cell_type": "code",
   "execution_count": null,
   "metadata": {},
   "outputs": [],
   "source": [
    "## code here"
   ]
  },
  {
   "cell_type": "markdown",
   "metadata": {},
   "source": [
    "Q: What are the top five highest-ranked institutions based on Research Rank in India?"
   ]
  },
  {
   "cell_type": "code",
   "execution_count": null,
   "metadata": {},
   "outputs": [],
   "source": [
    "## code here"
   ]
  },
  {
   "cell_type": "markdown",
   "metadata": {},
   "source": [
    "## Searches\n",
    "Q. What is the output for the BFS and DFS seach of the following graph?"
   ]
  },
  {
   "cell_type": "markdown",
   "metadata": {},
   "source": [
    "![alt text](graph.png)"
   ]
  },
  {
   "cell_type": "markdown",
   "metadata": {},
   "source": [
    "#### Theory Questions (to be asked by Me)"
   ]
  },
  {
   "cell_type": "markdown",
   "metadata": {},
   "source": [
    "## Regex\n",
    "\n",
    "Write a regular expression that matches email addresses, ensuring they adhere to the following criteria:\n",
    "\n",
    "1. The email should start with a combination of alphanumeric characters (letters and numbers) and may include dots (.), hyphens (-), and underscores (_).\n",
    "2. There must be exactly one '@' symbol following the initial character sequence.\n",
    "3. After the '@' symbol, the domain should consist of alphanumeric characters, potentially separated by a dot for domain subdivisions (e.g., example.com or subdomain.example.com).\n",
    "4. The top-level domain (TLD) should be between 2 and 6 characters long and can only consist of letters.\n",
    "\n",
    "The template for the function as been provided for you. You just have to complete the fucntion below."
   ]
  },
  {
   "cell_type": "code",
   "execution_count": null,
   "metadata": {},
   "outputs": [],
   "source": [
    "import re\n",
    "\n",
    "def validate_email(email):\n",
    "    #complete this function\n",
    "    pass\n",
    "\n",
    "# Test cases\n",
    "emails = [\n",
    "    \"john.doe@example.com\",\n",
    "    \"jane-doe123@sub.domain.com\",\n",
    "    \"alice_1990@domain.co.uk\",\n",
    "    \"john..doe@example.com\",\n",
    "    \"jane@domain\",\n",
    "    \"@example.com\",\n",
    "    \"joe@domain.a\",\n",
    "    \"steve@domain.toolongtld\"\n",
    "]\n",
    "\n",
    "for email in emails:\n",
    "    result = \"Valid\" if validate_email(email) else \"Invalid\"\n",
    "    print(f\"Email: {email} is {result}\")\n"
   ]
  }
 ],
 "metadata": {
  "kernelspec": {
   "display_name": "base",
   "language": "python",
   "name": "python3"
  },
  "language_info": {
   "codemirror_mode": {
    "name": "ipython",
    "version": 3
   },
   "file_extension": ".py",
   "mimetype": "text/x-python",
   "name": "python",
   "nbconvert_exporter": "python",
   "pygments_lexer": "ipython3",
   "version": "3.11.5"
  }
 },
 "nbformat": 4,
 "nbformat_minor": 2
}
